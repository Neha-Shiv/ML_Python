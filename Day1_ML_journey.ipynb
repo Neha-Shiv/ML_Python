{
  "nbformat": 4,
  "nbformat_minor": 0,
  "metadata": {
    "colab": {
      "provenance": [],
      "include_colab_link": true
    },
    "kernelspec": {
      "name": "python3",
      "display_name": "Python 3"
    },
    "language_info": {
      "name": "python"
    }
  },
  "cells": [
    {
      "cell_type": "markdown",
      "metadata": {
        "id": "view-in-github",
        "colab_type": "text"
      },
      "source": [
        "<a href=\"https://colab.research.google.com/github/Neha-Shiv/ML_Python/blob/main/Day1_ML_journey.ipynb\" target=\"_parent\"><img src=\"https://colab.research.google.com/assets/colab-badge.svg\" alt=\"Open In Colab\"/></a>"
      ]
    },
    {
      "cell_type": "code",
      "execution_count": null,
      "metadata": {
        "colab": {
          "base_uri": "https://localhost:8080/"
        },
        "id": "HpmbKqI7jltH",
        "outputId": "0ec1bf68-5f68-4ec7-f746-ea081ec8cab5"
      },
      "outputs": [
        {
          "output_type": "stream",
          "name": "stdout",
          "text": [
            "hello world\n"
          ]
        }
      ],
      "source": [
        "print(\"hello world\")"
      ]
    },
    {
      "cell_type": "code",
      "source": [
        "print(\"Neha Kashyap\")"
      ],
      "metadata": {
        "colab": {
          "base_uri": "https://localhost:8080/"
        },
        "id": "arPE1IDA3pwQ",
        "outputId": "c2fd3924-abe6-4818-8992-4b49e45a64e6"
      },
      "execution_count": null,
      "outputs": [
        {
          "output_type": "stream",
          "name": "stdout",
          "text": [
            "Neha Kashyap\n"
          ]
        }
      ]
    },
    {
      "source": [
        "def sum_of_natural_numbers(n):\n",
        "  \"\"\"\n",
        "  This function calculates the sum of the first 'n' natural numbers.\n",
        "\n",
        "  Args:\n",
        "    n: The number of natural numbers to sum.\n",
        "\n",
        "  Returns:\n",
        "    The sum of the first 'n' natural numbers.\n",
        "  \"\"\"\n",
        "  sum = 0\n",
        "  for i in range(1, n + 1):\n",
        "    sum += i\n",
        "  return sum\n",
        "\n",
        "# Get input from the user\n",
        "n = int(input(\"Enter a positive integer: \"))\n",
        "\n",
        "# Calculate and print the sum\n",
        "result = sum_of_natural_numbers(n)\n",
        "print(\"The sum of the first\", n, \"natural numbers is:\", result)"
      ],
      "cell_type": "code",
      "metadata": {
        "id": "uN3Tj4Ya80me",
        "outputId": "9c511116-52dd-4253-a3f8-2235c437f885",
        "colab": {
          "base_uri": "https://localhost:8080/"
        }
      },
      "execution_count": 1,
      "outputs": [
        {
          "output_type": "stream",
          "name": "stdout",
          "text": [
            "Enter a positive integer: 19\n",
            "The sum of the first 19 natural numbers is: 190\n"
          ]
        }
      ]
    },
    {
      "cell_type": "code",
      "source": [
        "!python --version"
      ],
      "metadata": {
        "id": "xZa9MI5xPQnH",
        "outputId": "1555765a-0f9f-4977-bed8-92c3600e6a57",
        "colab": {
          "base_uri": "https://localhost:8080/"
        }
      },
      "execution_count": 6,
      "outputs": [
        {
          "output_type": "stream",
          "name": "stdout",
          "text": [
            "Python 3.11.11\n"
          ]
        }
      ]
    },
    {
      "cell_type": "code",
      "source": [
        "len(\"Neha\")"
      ],
      "metadata": {
        "id": "tNBDUgrwJdF6",
        "outputId": "3376a04e-fa9d-4884-baf0-03c94921481e",
        "colab": {
          "base_uri": "https://localhost:8080/"
        }
      },
      "execution_count": 2,
      "outputs": [
        {
          "output_type": "execute_result",
          "data": {
            "text/plain": [
              "4"
            ]
          },
          "metadata": {},
          "execution_count": 2
        }
      ]
    },
    {
      "cell_type": "code",
      "source": [
        "print(\"Neha\")"
      ],
      "metadata": {
        "id": "K3dz6FfpJpqq",
        "outputId": "fb00a960-a4ae-4e49-98b6-71b1fefd6cf2",
        "colab": {
          "base_uri": "https://localhost:8080/"
        }
      },
      "execution_count": 3,
      "outputs": [
        {
          "output_type": "stream",
          "name": "stdout",
          "text": [
            "Neha\n"
          ]
        }
      ]
    },
    {
      "cell_type": "code",
      "source": [
        "abs(-17)"
      ],
      "metadata": {
        "id": "R1IL5LmcJp6j",
        "outputId": "b7b8b8d8-c1f3-42cd-c108-65ff5d65b8f2",
        "colab": {
          "base_uri": "https://localhost:8080/"
        }
      },
      "execution_count": 4,
      "outputs": [
        {
          "output_type": "execute_result",
          "data": {
            "text/plain": [
              "17"
            ]
          },
          "metadata": {},
          "execution_count": 4
        }
      ]
    },
    {
      "cell_type": "code",
      "source": [
        "type(13)"
      ],
      "metadata": {
        "id": "jIt8HohKJ7f9",
        "outputId": "89bcd3a4-c439-427d-b725-16310b556fd3",
        "colab": {
          "base_uri": "https://localhost:8080/"
        }
      },
      "execution_count": 10,
      "outputs": [
        {
          "output_type": "execute_result",
          "data": {
            "text/plain": [
              "int"
            ]
          },
          "metadata": {},
          "execution_count": 10
        }
      ]
    },
    {
      "cell_type": "code",
      "source": [
        "round(-17.5)"
      ],
      "metadata": {
        "id": "x2CQ_OP4KGeE",
        "outputId": "84e3b3b7-326c-4c03-a0aa-83e73e342333",
        "colab": {
          "base_uri": "https://localhost:8080/"
        }
      },
      "execution_count": 11,
      "outputs": [
        {
          "output_type": "execute_result",
          "data": {
            "text/plain": [
              "-18"
            ]
          },
          "metadata": {},
          "execution_count": 11
        }
      ]
    },
    {
      "cell_type": "code",
      "source": [
        "round(18.79)"
      ],
      "metadata": {
        "id": "_G49N1bEKIr-",
        "outputId": "58793849-a365-4744-c249-fda24da590c1",
        "colab": {
          "base_uri": "https://localhost:8080/"
        }
      },
      "execution_count": 12,
      "outputs": [
        {
          "output_type": "execute_result",
          "data": {
            "text/plain": [
              "19"
            ]
          },
          "metadata": {},
          "execution_count": 12
        }
      ]
    },
    {
      "cell_type": "code",
      "source": [
        "max(9,6,4,10,54,1,2)"
      ],
      "metadata": {
        "id": "CNKN1txXKNTA",
        "outputId": "0f84a1c1-e200-4fd5-d60e-4d75b72450e0",
        "colab": {
          "base_uri": "https://localhost:8080/"
        }
      },
      "execution_count": 13,
      "outputs": [
        {
          "output_type": "execute_result",
          "data": {
            "text/plain": [
              "54"
            ]
          },
          "metadata": {},
          "execution_count": 13
        }
      ]
    },
    {
      "cell_type": "code",
      "source": [
        "min(9,6,4,10,54,1,2)"
      ],
      "metadata": {
        "id": "nlsWVnFvKVKF",
        "outputId": "9db98554-a55d-454f-dce9-407f734a63df",
        "colab": {
          "base_uri": "https://localhost:8080/"
        }
      },
      "execution_count": 14,
      "outputs": [
        {
          "output_type": "execute_result",
          "data": {
            "text/plain": [
              "1"
            ]
          },
          "metadata": {},
          "execution_count": 14
        }
      ]
    },
    {
      "cell_type": "code",
      "source": [],
      "metadata": {
        "id": "1KGoX8vIKcN2"
      },
      "execution_count": null,
      "outputs": []
    }
  ]
}