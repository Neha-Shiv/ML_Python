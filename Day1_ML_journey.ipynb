{
  "nbformat": 4,
  "nbformat_minor": 0,
  "metadata": {
    "colab": {
      "provenance": [],
      "include_colab_link": true
    },
    "kernelspec": {
      "name": "python3",
      "display_name": "Python 3"
    },
    "language_info": {
      "name": "python"
    }
  },
  "cells": [
    {
      "cell_type": "markdown",
      "metadata": {
        "id": "view-in-github",
        "colab_type": "text"
      },
      "source": [
        "<a href=\"https://colab.research.google.com/github/Neha-Shiv/ML_Python/blob/main/Day1_ML_journey.ipynb\" target=\"_parent\"><img src=\"https://colab.research.google.com/assets/colab-badge.svg\" alt=\"Open In Colab\"/></a>"
      ]
    },
    {
      "cell_type": "code",
      "execution_count": null,
      "metadata": {
        "colab": {
          "base_uri": "https://localhost:8080/"
        },
        "id": "HpmbKqI7jltH",
        "outputId": "0ec1bf68-5f68-4ec7-f746-ea081ec8cab5"
      },
      "outputs": [
        {
          "output_type": "stream",
          "name": "stdout",
          "text": [
            "hello world\n"
          ]
        }
      ],
      "source": [
        "print(\"hello world\")"
      ]
    },
    {
      "cell_type": "code",
      "source": [
        "print(\"Neha Kashyap\")"
      ],
      "metadata": {
        "colab": {
          "base_uri": "https://localhost:8080/"
        },
        "id": "arPE1IDA3pwQ",
        "outputId": "c2fd3924-abe6-4818-8992-4b49e45a64e6"
      },
      "execution_count": null,
      "outputs": [
        {
          "output_type": "stream",
          "name": "stdout",
          "text": [
            "Neha Kashyap\n"
          ]
        }
      ]
    },
    {
      "source": [
        "def sum_of_natural_numbers(n):\n",
        "  \"\"\"\n",
        "  This function calculates the sum of the first 'n' natural numbers.\n",
        "\n",
        "  Args:\n",
        "    n: The number of natural numbers to sum.\n",
        "\n",
        "  Returns:\n",
        "    The sum of the first 'n' natural numbers.\n",
        "  \"\"\"\n",
        "  sum = 0\n",
        "  for i in range(1, n + 1):\n",
        "    sum += i\n",
        "  return sum\n",
        "\n",
        "# Get input from the user\n",
        "n = int(input(\"Enter a positive integer: \"))\n",
        "\n",
        "# Calculate and print the sum\n",
        "result = sum_of_natural_numbers(n)\n",
        "print(\"The sum of the first\", n, \"natural numbers is:\", result)"
      ],
      "cell_type": "code",
      "metadata": {
        "colab": {
          "base_uri": "https://localhost:8080/"
        },
        "id": "uN3Tj4Ya80me",
        "outputId": "9c511116-52dd-4253-a3f8-2235c437f885"
      },
      "execution_count": 1,
      "outputs": [
        {
          "output_type": "stream",
          "name": "stdout",
          "text": [
            "Enter a positive integer: 19\n",
            "The sum of the first 19 natural numbers is: 190\n"
          ]
        }
      ]
    },
    {
      "cell_type": "code",
      "source": [
        "!python --version"
      ],
      "metadata": {
        "colab": {
          "base_uri": "https://localhost:8080/"
        },
        "id": "xZa9MI5xPQnH",
        "outputId": "1555765a-0f9f-4977-bed8-92c3600e6a57"
      },
      "execution_count": 6,
      "outputs": [
        {
          "output_type": "stream",
          "name": "stdout",
          "text": [
            "Python 3.11.11\n"
          ]
        }
      ]
    },
    {
      "cell_type": "code",
      "source": [
        "len(\"Neha\")"
      ],
      "metadata": {
        "colab": {
          "base_uri": "https://localhost:8080/"
        },
        "id": "tNBDUgrwJdF6",
        "outputId": "3376a04e-fa9d-4884-baf0-03c94921481e"
      },
      "execution_count": 2,
      "outputs": [
        {
          "output_type": "execute_result",
          "data": {
            "text/plain": [
              "4"
            ]
          },
          "metadata": {},
          "execution_count": 2
        }
      ]
    },
    {
      "cell_type": "code",
      "source": [
        "print(\"Neha\")"
      ],
      "metadata": {
        "colab": {
          "base_uri": "https://localhost:8080/"
        },
        "id": "K3dz6FfpJpqq",
        "outputId": "fb00a960-a4ae-4e49-98b6-71b1fefd6cf2"
      },
      "execution_count": 3,
      "outputs": [
        {
          "output_type": "stream",
          "name": "stdout",
          "text": [
            "Neha\n"
          ]
        }
      ]
    },
    {
      "cell_type": "code",
      "source": [
        "abs(-17)"
      ],
      "metadata": {
        "colab": {
          "base_uri": "https://localhost:8080/"
        },
        "id": "R1IL5LmcJp6j",
        "outputId": "b7b8b8d8-c1f3-42cd-c108-65ff5d65b8f2"
      },
      "execution_count": 4,
      "outputs": [
        {
          "output_type": "execute_result",
          "data": {
            "text/plain": [
              "17"
            ]
          },
          "metadata": {},
          "execution_count": 4
        }
      ]
    },
    {
      "cell_type": "code",
      "source": [
        "type(13)"
      ],
      "metadata": {
        "colab": {
          "base_uri": "https://localhost:8080/"
        },
        "id": "jIt8HohKJ7f9",
        "outputId": "89bcd3a4-c439-427d-b725-16310b556fd3"
      },
      "execution_count": 10,
      "outputs": [
        {
          "output_type": "execute_result",
          "data": {
            "text/plain": [
              "int"
            ]
          },
          "metadata": {},
          "execution_count": 10
        }
      ]
    },
    {
      "cell_type": "code",
      "source": [
        "round(-17.5)"
      ],
      "metadata": {
        "colab": {
          "base_uri": "https://localhost:8080/"
        },
        "id": "x2CQ_OP4KGeE",
        "outputId": "84e3b3b7-326c-4c03-a0aa-83e73e342333"
      },
      "execution_count": 11,
      "outputs": [
        {
          "output_type": "execute_result",
          "data": {
            "text/plain": [
              "-18"
            ]
          },
          "metadata": {},
          "execution_count": 11
        }
      ]
    },
    {
      "cell_type": "code",
      "source": [
        "round(18.79)"
      ],
      "metadata": {
        "colab": {
          "base_uri": "https://localhost:8080/"
        },
        "id": "_G49N1bEKIr-",
        "outputId": "58793849-a365-4744-c249-fda24da590c1"
      },
      "execution_count": 12,
      "outputs": [
        {
          "output_type": "execute_result",
          "data": {
            "text/plain": [
              "19"
            ]
          },
          "metadata": {},
          "execution_count": 12
        }
      ]
    },
    {
      "cell_type": "code",
      "source": [
        "max(9,6,4,10,54,1,2)"
      ],
      "metadata": {
        "colab": {
          "base_uri": "https://localhost:8080/"
        },
        "id": "CNKN1txXKNTA",
        "outputId": "0f84a1c1-e200-4fd5-d60e-4d75b72450e0"
      },
      "execution_count": 13,
      "outputs": [
        {
          "output_type": "execute_result",
          "data": {
            "text/plain": [
              "54"
            ]
          },
          "metadata": {},
          "execution_count": 13
        }
      ]
    },
    {
      "cell_type": "code",
      "source": [
        "min(9,6,4,10,54,1,2)"
      ],
      "metadata": {
        "colab": {
          "base_uri": "https://localhost:8080/"
        },
        "id": "nlsWVnFvKVKF",
        "outputId": "9db98554-a55d-454f-dce9-407f734a63df"
      },
      "execution_count": 14,
      "outputs": [
        {
          "output_type": "execute_result",
          "data": {
            "text/plain": [
              "1"
            ]
          },
          "metadata": {},
          "execution_count": 14
        }
      ]
    },
    {
      "cell_type": "code",
      "source": [
        "salary = 20000"
      ],
      "metadata": {
        "id": "1KGoX8vIKcN2"
      },
      "execution_count": 16,
      "outputs": []
    },
    {
      "cell_type": "code",
      "source": [
        "salary"
      ],
      "metadata": {
        "id": "aRSdH1KqK1Zy",
        "outputId": "d5bb7262-9450-437e-fcd0-9d40d9de0c2c",
        "colab": {
          "base_uri": "https://localhost:8080/"
        }
      },
      "execution_count": 17,
      "outputs": [
        {
          "output_type": "execute_result",
          "data": {
            "text/plain": [
              "20000"
            ]
          },
          "metadata": {},
          "execution_count": 17
        }
      ]
    },
    {
      "cell_type": "code",
      "source": [
        "house_rent = 10000\n",
        "food_exp = 5000"
      ],
      "metadata": {
        "id": "n3uMgeYbK5sD"
      },
      "execution_count": 18,
      "outputs": []
    },
    {
      "cell_type": "code",
      "source": [
        "house_rent"
      ],
      "metadata": {
        "id": "Pl4-u3e8K-oR",
        "outputId": "0c5a6cb2-55e6-445e-c2ce-3fc129e15ab5",
        "colab": {
          "base_uri": "https://localhost:8080/"
        }
      },
      "execution_count": 19,
      "outputs": [
        {
          "output_type": "execute_result",
          "data": {
            "text/plain": [
              "10000"
            ]
          },
          "metadata": {},
          "execution_count": 19
        }
      ]
    },
    {
      "cell_type": "code",
      "source": [
        "food_exp"
      ],
      "metadata": {
        "id": "bPBcFW7zLAkl",
        "outputId": "261e2f39-89ab-4df3-da4d-757b56bebde0",
        "colab": {
          "base_uri": "https://localhost:8080/"
        }
      },
      "execution_count": 20,
      "outputs": [
        {
          "output_type": "execute_result",
          "data": {
            "text/plain": [
              "5000"
            ]
          },
          "metadata": {},
          "execution_count": 20
        }
      ]
    },
    {
      "cell_type": "code",
      "source": [
        "total_expense = house_rent + food_exp"
      ],
      "metadata": {
        "id": "wODbHU8dLP4H"
      },
      "execution_count": 22,
      "outputs": []
    },
    {
      "cell_type": "code",
      "source": [
        "total_expense"
      ],
      "metadata": {
        "id": "DgQVR-YpLYXe",
        "outputId": "b37678b6-ceef-4891-ef37-193a1f0f8067",
        "colab": {
          "base_uri": "https://localhost:8080/"
        }
      },
      "execution_count": 23,
      "outputs": [
        {
          "output_type": "execute_result",
          "data": {
            "text/plain": [
              "15000"
            ]
          },
          "metadata": {},
          "execution_count": 23
        }
      ]
    },
    {
      "cell_type": "code",
      "source": [
        "savings = salary - total_expense\n",
        "savings"
      ],
      "metadata": {
        "id": "tOm30BtoLcmx",
        "outputId": "51220758-744f-425b-f132-4b2fa4cb6e68",
        "colab": {
          "base_uri": "https://localhost:8080/"
        }
      },
      "execution_count": 25,
      "outputs": [
        {
          "output_type": "execute_result",
          "data": {
            "text/plain": [
              "5000"
            ]
          },
          "metadata": {},
          "execution_count": 25
        }
      ]
    },
    {
      "cell_type": "code",
      "source": [
        "print(\"My savings in a year is : \" , savings)"
      ],
      "metadata": {
        "id": "dkpFK3U8LmPJ",
        "outputId": "66176533-ac53-496a-9334-f4ae3444bca9",
        "colab": {
          "base_uri": "https://localhost:8080/"
        }
      },
      "execution_count": 26,
      "outputs": [
        {
          "output_type": "stream",
          "name": "stdout",
          "text": [
            "My savings in a year is :  5000\n"
          ]
        }
      ]
    },
    {
      "cell_type": "code",
      "source": [
        "course_fee = 299\n",
        "num_of_months = 6\n",
        "total_fee = course_fee * num_of_months\n",
        "print(total_fee)"
      ],
      "metadata": {
        "id": "kdC2gR_aLuET",
        "outputId": "65700507-3904-4413-f12c-16ca85848437",
        "colab": {
          "base_uri": "https://localhost:8080/"
        }
      },
      "execution_count": 28,
      "outputs": [
        {
          "output_type": "stream",
          "name": "stdout",
          "text": [
            "1794\n"
          ]
        }
      ]
    },
    {
      "cell_type": "code",
      "source": [
        "num_1 = 2\n",
        "num_2 = 2"
      ],
      "metadata": {
        "id": "Khh_XF-_L7rn"
      },
      "execution_count": 29,
      "outputs": []
    },
    {
      "cell_type": "code",
      "source": [
        "print(num_1 + num_2)"
      ],
      "metadata": {
        "id": "f78y-ahSL_MO",
        "outputId": "f78e6828-b1d5-4ebb-bc5e-48f27e284848",
        "colab": {
          "base_uri": "https://localhost:8080/"
        }
      },
      "execution_count": 30,
      "outputs": [
        {
          "output_type": "stream",
          "name": "stdout",
          "text": [
            "4\n"
          ]
        }
      ]
    },
    {
      "cell_type": "code",
      "source": [
        "total = num_1 + num_2\n",
        "total"
      ],
      "metadata": {
        "id": "ZC3Eqi8-MEM9",
        "outputId": "7b9d18d1-d909-4038-9a46-4146743b77d4",
        "colab": {
          "base_uri": "https://localhost:8080/"
        }
      },
      "execution_count": 32,
      "outputs": [
        {
          "output_type": "execute_result",
          "data": {
            "text/plain": [
              "4"
            ]
          },
          "metadata": {},
          "execution_count": 32
        }
      ]
    },
    {
      "cell_type": "code",
      "source": [
        "\"day\" + \"light\""
      ],
      "metadata": {
        "id": "kfVokV38MHrR",
        "outputId": "6d511530-cd3b-4b12-e627-daaa91d9e7b7",
        "colab": {
          "base_uri": "https://localhost:8080/",
          "height": 35
        }
      },
      "execution_count": 34,
      "outputs": [
        {
          "output_type": "execute_result",
          "data": {
            "text/plain": [
              "'daylight'"
            ],
            "application/vnd.google.colaboratory.intrinsic+json": {
              "type": "string"
            }
          },
          "metadata": {},
          "execution_count": 34
        }
      ]
    },
    {
      "cell_type": "code",
      "source": [
        "x = True\n",
        "y = False"
      ],
      "metadata": {
        "id": "WqxcYHYwMMeZ"
      },
      "execution_count": 35,
      "outputs": []
    },
    {
      "cell_type": "code",
      "source": [
        "print('x and y is : ', x or y)"
      ],
      "metadata": {
        "id": "BZneHF0cMeZq",
        "outputId": "c0d0d050-78c6-4b04-b46a-ea0f487d540b",
        "colab": {
          "base_uri": "https://localhost:8080/"
        }
      },
      "execution_count": 38,
      "outputs": [
        {
          "output_type": "stream",
          "name": "stdout",
          "text": [
            "x and y is :  True\n"
          ]
        }
      ]
    },
    {
      "cell_type": "code",
      "source": [
        "print('not x is :', not x)"
      ],
      "metadata": {
        "id": "ZWUzoUUTMvAV",
        "outputId": "0c34723e-2ada-4f40-f684-f79c62de6eeb",
        "colab": {
          "base_uri": "https://localhost:8080/"
        }
      },
      "execution_count": 39,
      "outputs": [
        {
          "output_type": "stream",
          "name": "stdout",
          "text": [
            "not x is : False\n"
          ]
        }
      ]
    },
    {
      "cell_type": "code",
      "source": [
        "x= 'awesone'\n",
        "x"
      ],
      "metadata": {
        "id": "tMwD_NLBM0zc",
        "outputId": "94ead16e-c5c0-4339-c342-ecc64a4e5b3a",
        "colab": {
          "base_uri": "https://localhost:8080/",
          "height": 35
        }
      },
      "execution_count": 40,
      "outputs": [
        {
          "output_type": "execute_result",
          "data": {
            "text/plain": [
              "'awesone'"
            ],
            "application/vnd.google.colaboratory.intrinsic+json": {
              "type": "string"
            }
          },
          "metadata": {},
          "execution_count": 40
        }
      ]
    },
    {
      "cell_type": "markdown",
      "source": [],
      "metadata": {
        "id": "6ZDhamvtNIez"
      }
    },
    {
      "cell_type": "code",
      "source": [
        "print( 'python is ' + x)"
      ],
      "metadata": {
        "id": "iEXMWkSUNH4N",
        "outputId": "ea43c930-69bc-4382-ab0b-ad03b3dd94a2",
        "colab": {
          "base_uri": "https://localhost:8080/"
        }
      },
      "execution_count": 42,
      "outputs": [
        {
          "output_type": "stream",
          "name": "stdout",
          "text": [
            "python is awesone\n"
          ]
        }
      ]
    },
    {
      "cell_type": "markdown",
      "source": [
        "print(  'python is ' + x)\n"
      ],
      "metadata": {
        "id": "V8oDGw1-M4d5"
      }
    },
    {
      "cell_type": "code",
      "source": [
        "x= 'python is '\n",
        "y = 'awesone'"
      ],
      "metadata": {
        "id": "jy-54ljeNTsi"
      },
      "execution_count": 44,
      "outputs": []
    },
    {
      "cell_type": "code",
      "source": [
        "z= print(x + y)"
      ],
      "metadata": {
        "id": "vaOj-gZ5Na8J",
        "outputId": "a7c49822-d25c-4f9a-8f21-9ecfc20591b9",
        "colab": {
          "base_uri": "https://localhost:8080/"
        }
      },
      "execution_count": 47,
      "outputs": [
        {
          "output_type": "stream",
          "name": "stdout",
          "text": [
            "python is awesone\n"
          ]
        }
      ]
    },
    {
      "cell_type": "code",
      "source": [
        "z = x+ y\n",
        "z\n",
        "z"
      ],
      "metadata": {
        "id": "qZlsMlGENcc5",
        "outputId": "a77de041-2842-4309-9504-10595383344e",
        "colab": {
          "base_uri": "https://localhost:8080/",
          "height": 35
        }
      },
      "execution_count": 52,
      "outputs": [
        {
          "output_type": "execute_result",
          "data": {
            "text/plain": [
              "'python is awesone'"
            ],
            "application/vnd.google.colaboratory.intrinsic+json": {
              "type": "string"
            }
          },
          "metadata": {},
          "execution_count": 52
        }
      ]
    },
    {
      "cell_type": "code",
      "source": [
        "z\n"
      ],
      "metadata": {
        "id": "b7KoCqPyNxSn",
        "outputId": "a409ce43-893d-405c-8084-ae41a12b56bc",
        "colab": {
          "base_uri": "https://localhost:8080/",
          "height": 35
        }
      },
      "execution_count": 53,
      "outputs": [
        {
          "output_type": "execute_result",
          "data": {
            "text/plain": [
              "'python is awesone'"
            ],
            "application/vnd.google.colaboratory.intrinsic+json": {
              "type": "string"
            }
          },
          "metadata": {},
          "execution_count": 53
        }
      ]
    },
    {
      "cell_type": "code",
      "source": [
        "len(x)"
      ],
      "metadata": {
        "id": "QOoRi20TN6Eu",
        "outputId": "ea21521d-adfd-4909-cf41-9bfc54720c22",
        "colab": {
          "base_uri": "https://localhost:8080/"
        }
      },
      "execution_count": 54,
      "outputs": [
        {
          "output_type": "execute_result",
          "data": {
            "text/plain": [
              "10"
            ]
          },
          "metadata": {},
          "execution_count": 54
        }
      ]
    },
    {
      "cell_type": "code",
      "source": [
        "len(z)"
      ],
      "metadata": {
        "id": "Q2pxiCwUN71-",
        "outputId": "3a6b1cc7-b76a-4e43-e837-d3647d7eafb6",
        "colab": {
          "base_uri": "https://localhost:8080/"
        }
      },
      "execution_count": 55,
      "outputs": [
        {
          "output_type": "execute_result",
          "data": {
            "text/plain": [
              "17"
            ]
          },
          "metadata": {},
          "execution_count": 55
        }
      ]
    },
    {
      "cell_type": "code",
      "source": [
        "x = y = z = 'Python'\n",
        "x"
      ],
      "metadata": {
        "id": "zvvp5D2jOYZ0",
        "outputId": "c63f7454-3b32-4c2c-9df6-de1bebb84cc3",
        "colab": {
          "base_uri": "https://localhost:8080/",
          "height": 35
        }
      },
      "execution_count": 57,
      "outputs": [
        {
          "output_type": "execute_result",
          "data": {
            "text/plain": [
              "'Python'"
            ],
            "application/vnd.google.colaboratory.intrinsic+json": {
              "type": "string"
            }
          },
          "metadata": {},
          "execution_count": 57
        }
      ]
    },
    {
      "cell_type": "code",
      "source": [
        "x = y == z\n",
        "x"
      ],
      "metadata": {
        "id": "SAPBXN1QOfq4",
        "outputId": "0bff71a1-0776-4981-ef17-e807b094dfd0",
        "colab": {
          "base_uri": "https://localhost:8080/"
        }
      },
      "execution_count": 59,
      "outputs": [
        {
          "output_type": "execute_result",
          "data": {
            "text/plain": [
              "True"
            ]
          },
          "metadata": {},
          "execution_count": 59
        }
      ]
    },
    {
      "cell_type": "code",
      "source": [
        "50/6"
      ],
      "metadata": {
        "id": "envVE6IpEyiv",
        "outputId": "4d467f16-7b3d-4ba5-f434-ef8b3b9f0844",
        "colab": {
          "base_uri": "https://localhost:8080/"
        }
      },
      "execution_count": 1,
      "outputs": [
        {
          "output_type": "execute_result",
          "data": {
            "text/plain": [
              "8.333333333333334"
            ]
          },
          "metadata": {},
          "execution_count": 1
        }
      ]
    },
    {
      "cell_type": "code",
      "source": [
        "50//6"
      ],
      "metadata": {
        "id": "50ELuk1lE1YV",
        "outputId": "71d29be7-fa5b-4811-d430-c2bb93d34fb3",
        "colab": {
          "base_uri": "https://localhost:8080/"
        }
      },
      "execution_count": 2,
      "outputs": [
        {
          "output_type": "execute_result",
          "data": {
            "text/plain": [
              "8"
            ]
          },
          "metadata": {},
          "execution_count": 2
        }
      ]
    },
    {
      "cell_type": "code",
      "source": [
        "50%6"
      ],
      "metadata": {
        "id": "yXl0fZO-E5GE",
        "outputId": "7289c3cb-e461-47ee-da9f-78e51c92d009",
        "colab": {
          "base_uri": "https://localhost:8080/"
        }
      },
      "execution_count": 3,
      "outputs": [
        {
          "output_type": "execute_result",
          "data": {
            "text/plain": [
              "2"
            ]
          },
          "metadata": {},
          "execution_count": 3
        }
      ]
    }
  ]
}